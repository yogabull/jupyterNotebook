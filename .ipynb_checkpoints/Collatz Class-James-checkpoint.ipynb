{
 "cells": [
  {
   "cell_type": "markdown",
   "metadata": {},
   "source": [
    "### Jame's Collatz Sequence class:\n"
   ]
  },
  {
   "cell_type": "code",
   "execution_count": 9,
   "metadata": {},
   "outputs": [],
   "source": [
    "class CollatzClass:\n",
    "    \n",
    "    def __init__(self, v: int=0) -> None:\n",
    "        self.val = v\n",
    "        print('')\n",
    "        print('')\n",
    "        print('==============================')\n",
    "        print('======Collatz Sequence =======')\n",
    "        print('==============================\\n')\n",
    "        \n",
    "    def collatz(self) -> None:\n",
    "        print(self.val)\n",
    "        while self.val >1:\n",
    "            if  self.val % 2 == 0:\n",
    "                self.val  = self.val//2\n",
    "                print(self.val)\n",
    "            else:\n",
    "                self.val % 2 == 1\n",
    "                self.val = self.val * 3 + 1\n",
    "                print(self.val)\n",
    "        print('')\n",
    "        print('')\n",
    "        print('----------------------------------------------------------------------------------------------------------------')\n",
    "        print('|||||||||||||||||||||||   The Final Number Will ALWAYS be ', self.val, ' |||||||||||||||||||||||||||||')\n",
    "        print('----------------------------------------------------------------------------------------------------------------')\n",
    "        print('')\n",
    "        print('')\n",
    "        \n",
    "    def __repr__(self) -> str:\n",
    "        return str(self.val)\n",
    "    "
   ]
  },
  {
   "cell_type": "code",
   "execution_count": 10,
   "metadata": {},
   "outputs": [
    {
     "name": "stdout",
     "output_type": "stream",
     "text": [
      "\n",
      "\n",
      "==============================\n",
      "======Collatz Sequence =======\n",
      "==============================\n",
      "\n"
     ]
    }
   ],
   "source": [
    "a = CollatzClass(44)"
   ]
  },
  {
   "cell_type": "code",
   "execution_count": 11,
   "metadata": {},
   "outputs": [
    {
     "name": "stdout",
     "output_type": "stream",
     "text": [
      "44\n",
      "22\n",
      "11\n",
      "34\n",
      "17\n",
      "52\n",
      "26\n",
      "13\n",
      "40\n",
      "20\n",
      "10\n",
      "5\n",
      "16\n",
      "8\n",
      "4\n",
      "2\n",
      "1\n",
      "\n",
      "\n",
      "----------------------------------------------------------------------------------------------------------------\n",
      "|||||||||||||||||||||||   The Final Number Will ALWAYS be  1  |||||||||||||||||||||||||||||\n",
      "----------------------------------------------------------------------------------------------------------------\n",
      "\n",
      "\n"
     ]
    }
   ],
   "source": [
    "a.collatz()"
   ]
  },
  {
   "cell_type": "code",
   "execution_count": null,
   "metadata": {},
   "outputs": [],
   "source": []
  }
 ],
 "metadata": {
  "kernelspec": {
   "display_name": "Python 3",
   "language": "python",
   "name": "python3"
  },
  "language_info": {
   "codemirror_mode": {
    "name": "ipython",
    "version": 3
   },
   "file_extension": ".py",
   "mimetype": "text/x-python",
   "name": "python",
   "nbconvert_exporter": "python",
   "pygments_lexer": "ipython3",
   "version": "3.7.4"
  }
 },
 "nbformat": 4,
 "nbformat_minor": 2
}
